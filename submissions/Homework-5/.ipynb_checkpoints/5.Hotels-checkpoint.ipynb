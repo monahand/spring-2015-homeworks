{
 "metadata": {
  "name": "",
  "signature": "sha256:d9d57113e15a8fb37c24214b66676072d24f7e1b3c7b4edcbeeac8fe6cb1cb68"
 },
 "nbformat": 3,
 "nbformat_minor": 0,
 "worksheets": [
  {
   "cells": [
    {
     "cell_type": "markdown",
     "metadata": {},
     "source": [
      "(In order to load the stylesheet of this notebook, execute the last code cell in this notebook)"
     ]
    },
    {
     "cell_type": "heading",
     "level": 1,
     "metadata": {},
     "source": [
      "Analyzing hotel ratings on Tripadvisor"
     ]
    },
    {
     "cell_type": "markdown",
     "metadata": {},
     "source": [
      "In this homework we will focus on practicing two techniques: web scraping and regression. For the first part, we will build upon the sample code from the Lecture and attempt to get some basic information for each hotel. Then, we will fit a regression model on this information and try to analyze it.   "
     ]
    },
    {
     "cell_type": "markdown",
     "metadata": {},
     "source": [
      "One of the main disadvantages of scraping a website instead of using an API is that, without any notice, the website may change its layout and render our code useless. Something like that happened in our case. Tripadvisor changed the layout of the buttons that we use to navigate between the different pages of the results. This was the main reason people were having problem with executing the code."
     ]
    },
    {
     "cell_type": "markdown",
     "metadata": {},
     "source": [
      "**Task 1 (20 pts)**\n",
      "\n",
      "The first task of the homework is to fix the scraping code. We basically need to replace the part where we are checking if there is another page and getting its link with new code that reflects the new navigation layout. "
     ]
    },
    {
     "cell_type": "markdown",
     "metadata": {},
     "source": [
      "** Task 2 (30 pts)**\n",
      "\n",
      "Then, for each hotel that our search returns, we will \"click\" (with the code of course) on it and scrape the information below.\n",
      "\n",
      "![Information to be scraped](hotel_info.png)\n",
      "\n",
      "Of course, feel free to collect even more data if you want. "
     ]
    },
    {
     "cell_type": "markdown",
     "metadata": {},
     "source": [
      "** Task 3 (20 pts) **\n",
      "\n",
      "Now, we will use regression to analyze this information. First, we will fit a linear regression model that predicts the average rating. For example, for the hotel above, the average rating is\n",
      "\n",
      "$$ \\text{AVG_SCORE} = \\frac{1*31 + 2*33 + 3*98 + 4*504 + 5*1861}{2527}$$\n",
      "\n",
      "Use the model to analyze the important factors that decide the $\\text{AVG_SCORE}$."
     ]
    },
    {
     "cell_type": "markdown",
     "metadata": {},
     "source": [
      "** Task 4 (30 pts) **\n",
      "\n",
      "Finally, we will use logistic regression to decide if a hotel is _excellent_ or not. We classify a hotel as _excellent_ if more than **60%** of its ratings are 5 stars. This is a binary attribute on which we can fit a logistic regression model. As before, use the model to analyze the data.\n",
      "\n",
      "-------"
     ]
    },
    {
     "cell_type": "markdown",
     "metadata": {},
     "source": [
      "In order to use code from a Python script file, we need to put that file in the same folder as the notebook and import it as a library. Then, we will be able to access it's functions. For example, in the case of the lecture code, we could do the following:\n",
      "\n",
      "``` python\n",
      "import scrape_solution as scrape\n",
      "\n",
      "scrape.get_city_page()\n",
      "```\n",
      "\n",
      "Of course, you might need to modify and restructure the code so that it returns what you need."
     ]
    },
    {
     "cell_type": "markdown",
     "metadata": {},
     "source": [
      "----"
     ]
    },
    {
     "cell_type": "code",
     "collapsed": false,
     "input": [
      "import scrape_solution as scrape\n",
      "import pandas as pd\n",
      "import logging\n",
      "import requests\n",
      "from BeautifulSoup import BeautifulSoup\n",
      "import sklearn.metrics as metrics\n",
      "import sklearn.utils as utils\n",
      "import sklearn.linear_model as linear_model\n",
      "import sklearn.cross_validation as cross_validation\n",
      "import statsmodels.api as sm\n",
      "import numpy as np"
     ],
     "language": "python",
     "metadata": {},
     "outputs": [],
     "prompt_number": 69
    },
    {
     "cell_type": "markdown",
     "metadata": {},
     "source": [
      "Task 2: Here I scrape TripAdvisor for the data for each hotel, parse it and store it in a dataframe."
     ]
    },
    {
     "cell_type": "code",
     "collapsed": false,
     "input": [
      "morePages = True\n",
      "hotel_data = []\n",
      "c= 0\n",
      "city_url = scrape.get_city_page('Boston', 'MA', 'data/')\n",
      "while(morePages):\n",
      "    c = c + 1\n",
      "    \n",
      "    \n",
      "\n",
      "    hotels_page = scrape.get_hotellist_page(city_url, c, \"Boston\")\n",
      "\n",
      "    soup = BeautifulSoup(hotels_page)\n",
      "    # Extract hotel name, star rating and number of reviews\n",
      "    hotel_boxes = soup.findAll('div', {'class' :'listing wrap reasoning_v5_wrap jfy_listing p13n_imperfect'})\n",
      "    if not hotel_boxes:\n",
      "        #log.info(\"#################################### Option 2 ######################################\")\n",
      "        hotel_boxes = soup.findAll('div', {'class' :'listing_info jfy'})\n",
      "    if not hotel_boxes:\n",
      "        #log.info(\"#################################### Option 3 ######################################\")\n",
      "        hotel_boxes = soup.findAll('div', {'class' :'listing easyClear  p13n_imperfect'})\n",
      "\n",
      "    for hotel_box in hotel_boxes:\n",
      "        hotel_info = {}\n",
      "        hotel_name = hotel_box.find(\"a\", {\"target\" : \"_blank\"}).find(text=True)\n",
      "        hotel_info['Hotel Name'] = hotel_name\n",
      "        hotel_link = hotel_box.find(\"a\", {\"target\" : \"_blank\"})['href']\n",
      "        hotel_html = scrape.get_hotel_page(hotel_link, hotel_name)\n",
      "        \n",
      "        hotelsoup = BeautifulSoup(hotel_html)\n",
      "        \n",
      "        \n",
      "        \n",
      "        barChart = hotelsoup.find('ul', {'class' : 'barChart'})\n",
      "        divs = barChart.findAll('div', {'class' : 'wrap row'})\n",
      "        for div in divs:\n",
      "            ratingType = div.find(\"span\", {\"class\" : \"text\"}).find(text = True)\n",
      "            count = int(div.find(\"span\", {\"class\": \"compositeCount\"}).find(text = True).replace(',', ''))\n",
      "            hotel_info[ratingType] = count\n",
      "            \n",
      "            \n",
      "        \n",
      "        segment1 = hotelsoup.find(\"div\", {'class': 'segment segment1'} )\n",
      "        value1 = int(segment1.find('div', {'class' : 'value'}).find(text = True).replace(',', ''))\n",
      "        \n",
      "        segment2 = hotelsoup.find(\"div\", {'class': 'segment segment2'} )\n",
      "        value2 = int(segment2.find('div', {'class' : 'value'}).find(text = True).replace(',', ''))\n",
      "        \n",
      "        segment3 = hotelsoup.find(\"div\", {'class': 'segment segment3'} )\n",
      "        value3 = int(segment3.find('div', {'class' : 'value'}).find(text = True).replace(',', ''))\n",
      "        \n",
      "        segment4 = hotelsoup.find(\"div\", {'class': 'segment segment4'} )\n",
      "        value4 = int(segment4.find('div', {'class' : 'value'}).find(text = True).replace(',', ''))\n",
      "        \n",
      "        hotel_info[\"Families\"] = value1\n",
      "        hotel_info[\"Couples\"] = value2\n",
      "        hotel_info[\"Solo\"] = value3\n",
      "        hotel_info[\"Business\"] = value4\n",
      "        \n",
      "        ratingBox = hotelsoup.find(\"div\", {'class' : \"wrap subrating\"})\n",
      "        ratings = ratingBox.findAll(\"li\")\n",
      "        \n",
      "        for rating in ratings:\n",
      "            ratingName = rating.find(\"div\", {\"class\" : \"name\"}).find(text = True)\n",
      "            starRating = float(rating.find(\"img\")['alt'].split(\" \")[0].replace(',', ''))\n",
      "            hotel_info[ratingName] = starRating\n",
      "        #print hotel_info\n",
      "        \n",
      "        hotel_data.append(hotel_info)\n",
      "        \n",
      "    # Get next URL page if exists, otherwise exit\n",
      "    div = soup.find(\"div\", {\"class\" : \"pagination paginationfillbtm\"})\n",
      "    # check if this is the last page\n",
      "    if div.find('span', {'class' : 'guiArw pageEndNext'}):\n",
      "        print(\"We reached last page\")\n",
      "        morePages = False\n",
      "    # If not, return the url to the next page\n",
      "    hrefs = div.findAll('a', href= True)\n",
      "    for href in hrefs:\n",
      "        if href.find(text = True) == '&raquo;':\n",
      "            print \"NEXT PAGE\"\n",
      "            city_url = href['href']\n",
      "\n",
      "df = pd.DataFrame(hotel_data)\n",
      "\n",
      "df = df.set_index(\"Hotel Name\")\n",
      "#df.head(5)"
     ],
     "language": "python",
     "metadata": {},
     "outputs": [
      {
       "output_type": "stream",
       "stream": "stdout",
       "text": [
        "Hyatt Boston Harbor\n",
        "Seaport Boston Hotel"
       ]
      },
      {
       "output_type": "stream",
       "stream": "stdout",
       "text": [
        "\n",
        "Hotel Commonwealth"
       ]
      },
      {
       "output_type": "stream",
       "stream": "stdout",
       "text": [
        "\n",
        "Boston Harbor Hotel"
       ]
      },
      {
       "output_type": "stream",
       "stream": "stdout",
       "text": [
        "\n",
        "enVision Hotel Boston"
       ]
      },
      {
       "output_type": "stream",
       "stream": "stdout",
       "text": [
        "\n",
        "Revere Hotel Boston Common"
       ]
      },
      {
       "output_type": "stream",
       "stream": "stdout",
       "text": [
        "\n",
        "Nine Zero Hotel - a Kimpton Hotel"
       ]
      },
      {
       "output_type": "stream",
       "stream": "stdout",
       "text": [
        "\n",
        "Lenox Hotel"
       ]
      },
      {
       "output_type": "stream",
       "stream": "stdout",
       "text": [
        "\n",
        "The Westin Copley Place"
       ]
      },
      {
       "output_type": "stream",
       "stream": "stdout",
       "text": [
        "\n",
        "Courtyard by Marriott Boston Copley Square"
       ]
      },
      {
       "output_type": "stream",
       "stream": "stdout",
       "text": [
        "\n",
        "Omni Parker House"
       ]
      },
      {
       "output_type": "stream",
       "stream": "stdout",
       "text": [
        "\n",
        "Embassy Suites Boston Logan Airport"
       ]
      },
      {
       "output_type": "stream",
       "stream": "stdout",
       "text": [
        "\n",
        "XV Beacon"
       ]
      },
      {
       "output_type": "stream",
       "stream": "stdout",
       "text": [
        "\n",
        "The Midtown Hotel"
       ]
      },
      {
       "output_type": "stream",
       "stream": "stdout",
       "text": [
        "\n",
        "The Verb Hotel"
       ]
      },
      {
       "output_type": "stream",
       "stream": "stdout",
       "text": [
        "\n",
        "The Liberty Hotel"
       ]
      },
      {
       "output_type": "stream",
       "stream": "stdout",
       "text": [
        "\n",
        "Copley Square Hotel"
       ]
      },
      {
       "output_type": "stream",
       "stream": "stdout",
       "text": [
        "\n",
        "Taj Boston"
       ]
      },
      {
       "output_type": "stream",
       "stream": "stdout",
       "text": [
        "\n",
        "Harborside Inn"
       ]
      },
      {
       "output_type": "stream",
       "stream": "stdout",
       "text": [
        "\n",
        "The Fairmont Copley Plaza, Boston"
       ]
      },
      {
       "output_type": "stream",
       "stream": "stdout",
       "text": [
        "\n",
        "Hilton Boston Back Bay"
       ]
      },
      {
       "output_type": "stream",
       "stream": "stdout",
       "text": [
        "\n",
        "Millennium Bostonian Hotel"
       ]
      },
      {
       "output_type": "stream",
       "stream": "stdout",
       "text": [
        "\n",
        "The Langham, Boston"
       ]
      },
      {
       "output_type": "stream",
       "stream": "stdout",
       "text": [
        "\n",
        "InterContinental Boston"
       ]
      },
      {
       "output_type": "stream",
       "stream": "stdout",
       "text": [
        "\n",
        "Boston Hotel Buckminster"
       ]
      },
      {
       "output_type": "stream",
       "stream": "stdout",
       "text": [
        "\n",
        "Marriott's Custom House"
       ]
      },
      {
       "output_type": "stream",
       "stream": "stdout",
       "text": [
        "\n",
        "Sheraton Boston Hotel"
       ]
      },
      {
       "output_type": "stream",
       "stream": "stdout",
       "text": [
        "\n",
        "Residence Inn Boston Back Bay  Fenway"
       ]
      },
      {
       "output_type": "stream",
       "stream": "stdout",
       "text": [
        "\n",
        "Boston Marriott Copley Place"
       ]
      },
      {
       "output_type": "stream",
       "stream": "stdout",
       "text": [
        "\n",
        "Loews Boston Hotel"
       ]
      },
      {
       "output_type": "stream",
       "stream": "stdout",
       "text": [
        "\n",
        "NEXT PAGE"
       ]
      },
      {
       "output_type": "stream",
       "stream": "stdout",
       "text": [
        "\n",
        "Battery Wharf Hotel, Boston Waterfront"
       ]
      },
      {
       "output_type": "stream",
       "stream": "stdout",
       "text": [
        "\n",
        "Hotel 140"
       ]
      },
      {
       "output_type": "stream",
       "stream": "stdout",
       "text": [
        "\n",
        "Residence Inn by Marriott Boston Harbor on Tudor Wharf"
       ]
      },
      {
       "output_type": "stream",
       "stream": "stdout",
       "text": [
        "\n",
        "Chandler Inn"
       ]
      },
      {
       "output_type": "stream",
       "stream": "stdout",
       "text": [
        "\n",
        "DoubleTree by Hilton Hotel Boston - Downtown"
       ]
      },
      {
       "output_type": "stream",
       "stream": "stdout",
       "text": [
        "\n",
        "Boston Marriott Copley Place"
       ]
      },
      {
       "output_type": "stream",
       "stream": "stdout",
       "text": [
        "\n",
        "Four Seasons Hotel Boston"
       ]
      },
      {
       "output_type": "stream",
       "stream": "stdout",
       "text": [
        "\n",
        "Boston Marriott Long Wharf"
       ]
      },
      {
       "output_type": "stream",
       "stream": "stdout",
       "text": [
        "\n",
        "Club Quarters in Boston"
       ]
      },
      {
       "output_type": "stream",
       "stream": "stdout",
       "text": [
        "\n",
        "XV Beacon"
       ]
      },
      {
       "output_type": "stream",
       "stream": "stdout",
       "text": [
        "\n",
        "Hyatt Regency Boston"
       ]
      },
      {
       "output_type": "stream",
       "stream": "stdout",
       "text": [
        "\n",
        "Hilton Boston Downtown  Faneuil Hall"
       ]
      },
      {
       "output_type": "stream",
       "stream": "stdout",
       "text": [
        "\n",
        "Hampton Inn & Suites Boston Crosstown Center"
       ]
      },
      {
       "output_type": "stream",
       "stream": "stdout",
       "text": [
        "\n",
        "Onyx Hotel - a Kimpton Hotel"
       ]
      },
      {
       "output_type": "stream",
       "stream": "stdout",
       "text": [
        "\n",
        "Residence Inn Boston Downtown Seaport"
       ]
      },
      {
       "output_type": "stream",
       "stream": "stdout",
       "text": [
        "\n",
        "Ramada Boston"
       ]
      },
      {
       "output_type": "stream",
       "stream": "stdout",
       "text": [
        "\n",
        "BEST WESTERN University Hotel Boston-Brighton"
       ]
      },
      {
       "output_type": "stream",
       "stream": "stdout",
       "text": [
        "\n",
        "Colonnade Hotel"
       ]
      },
      {
       "output_type": "stream",
       "stream": "stdout",
       "text": [
        "\n",
        "DoubleTree Suites by Hilton Boston-Cambridge"
       ]
      },
      {
       "output_type": "stream",
       "stream": "stdout",
       "text": [
        "\n",
        "The Westin Boston Waterfront"
       ]
      },
      {
       "output_type": "stream",
       "stream": "stdout",
       "text": [
        "\n",
        "Copley House"
       ]
      },
      {
       "output_type": "stream",
       "stream": "stdout",
       "text": [
        "\n",
        "The Boston Common Hotel and Conference Center"
       ]
      },
      {
       "output_type": "stream",
       "stream": "stdout",
       "text": [
        "\n",
        "Eliot Hotel"
       ]
      },
      {
       "output_type": "stream",
       "stream": "stdout",
       "text": [
        "\n",
        "DoubleTree Club by Hilton Hotel Boston Bayside"
       ]
      },
      {
       "output_type": "stream",
       "stream": "stdout",
       "text": [
        "\n",
        "Boston Hotel Buckminster"
       ]
      },
      {
       "output_type": "stream",
       "stream": "stdout",
       "text": [
        "\n",
        "Ames Boston Hotel"
       ]
      },
      {
       "output_type": "stream",
       "stream": "stdout",
       "text": [
        "\n",
        "Charlesmark Hotel"
       ]
      },
      {
       "output_type": "stream",
       "stream": "stdout",
       "text": [
        "\n",
        "Newbury Guest House"
       ]
      },
      {
       "output_type": "stream",
       "stream": "stdout",
       "text": [
        "\n",
        "Mandarin Oriental, Boston"
       ]
      },
      {
       "output_type": "stream",
       "stream": "stdout",
       "text": [
        "\n",
        "Hilton Boston Logan Airport"
       ]
      },
      {
       "output_type": "stream",
       "stream": "stdout",
       "text": [
        "\n",
        "NEXT PAGE"
       ]
      },
      {
       "output_type": "stream",
       "stream": "stdout",
       "text": [
        "\n",
        "Holiday Inn Express Hotel & Suites Boston Garden"
       ]
      },
      {
       "output_type": "stream",
       "stream": "stdout",
       "text": [
        "\n",
        "Ames Boston Hotel"
       ]
      },
      {
       "output_type": "stream",
       "stream": "stdout",
       "text": [
        "\n",
        "The Ritz-Carlton Boston Common"
       ]
      },
      {
       "output_type": "stream",
       "stream": "stdout",
       "text": [
        "\n",
        "Courtyard by Marriott Boston Logan Airport"
       ]
      },
      {
       "output_type": "stream",
       "stream": "stdout",
       "text": [
        "\n",
        "The Inn At St Botolph"
       ]
      },
      {
       "output_type": "stream",
       "stream": "stdout",
       "text": [
        "\n",
        "Residence Inn Boston Downtown Seaport"
       ]
      },
      {
       "output_type": "stream",
       "stream": "stdout",
       "text": [
        "\n",
        "Courtyard Boston-South Boston"
       ]
      },
      {
       "output_type": "stream",
       "stream": "stdout",
       "text": [
        "\n",
        "Beacon Hill Hotel and Bistro"
       ]
      },
      {
       "output_type": "stream",
       "stream": "stdout",
       "text": [
        "\n",
        "Comfort Inn - Boston"
       ]
      },
      {
       "output_type": "stream",
       "stream": "stdout",
       "text": [
        "\n",
        "The Boston Common Hotel and Conference Center"
       ]
      },
      {
       "output_type": "stream",
       "stream": "stdout",
       "text": [
        "\n",
        "Courtyard Boston Downtown"
       ]
      },
      {
       "output_type": "stream",
       "stream": "stdout",
       "text": [
        "\n",
        "Boston Park Plaza"
       ]
      },
      {
       "output_type": "stream",
       "stream": "stdout",
       "text": [
        "\n",
        "Ramada Boston"
       ]
      },
      {
       "output_type": "stream",
       "stream": "stdout",
       "text": [
        "\n",
        "Milner Hotel"
       ]
      },
      {
       "output_type": "stream",
       "stream": "stdout",
       "text": [
        "\n",
        "Constitution Inn"
       ]
      },
      {
       "output_type": "stream",
       "stream": "stdout",
       "text": [
        "\n",
        "Days Hotel Boston"
       ]
      },
      {
       "output_type": "stream",
       "stream": "stdout",
       "text": [
        "\n",
        "Americas Best Value Inn"
       ]
      },
      {
       "output_type": "stream",
       "stream": "stdout",
       "text": [
        "\n",
        "We reached last page"
       ]
      },
      {
       "output_type": "stream",
       "stream": "stdout",
       "text": [
        "\n"
       ]
      },
      {
       "html": [
        "<div style=\"max-height:1000px;max-width:1500px;overflow:auto;\">\n",
        "<table border=\"1\" class=\"dataframe\">\n",
        "  <thead>\n",
        "    <tr style=\"text-align: right;\">\n",
        "      <th></th>\n",
        "      <th>Average</th>\n",
        "      <th>Business</th>\n",
        "      <th>Cleanliness</th>\n",
        "      <th>Couples</th>\n",
        "      <th>Excellent</th>\n",
        "      <th>Families</th>\n",
        "      <th>Location</th>\n",
        "      <th>Poor</th>\n",
        "      <th>Rooms</th>\n",
        "      <th>Service</th>\n",
        "      <th>Sleep Quality</th>\n",
        "      <th>Solo</th>\n",
        "      <th>Terrible</th>\n",
        "      <th>Value</th>\n",
        "      <th>Very good</th>\n",
        "    </tr>\n",
        "    <tr>\n",
        "      <th>Hotel Name</th>\n",
        "      <th></th>\n",
        "      <th></th>\n",
        "      <th></th>\n",
        "      <th></th>\n",
        "      <th></th>\n",
        "      <th></th>\n",
        "      <th></th>\n",
        "      <th></th>\n",
        "      <th></th>\n",
        "      <th></th>\n",
        "      <th></th>\n",
        "      <th></th>\n",
        "      <th></th>\n",
        "      <th></th>\n",
        "      <th></th>\n",
        "    </tr>\n",
        "  </thead>\n",
        "  <tbody>\n",
        "    <tr>\n",
        "      <th>\n",
        "Hyatt Boston Harbor</th>\n",
        "      <td> 166</td>\n",
        "      <td>  329</td>\n",
        "      <td> 4.5</td>\n",
        "      <td> 335</td>\n",
        "      <td>  480</td>\n",
        "      <td> 240</td>\n",
        "      <td> 4.5</td>\n",
        "      <td> 67</td>\n",
        "      <td> 4.0</td>\n",
        "      <td> 4.5</td>\n",
        "      <td> 4.0</td>\n",
        "      <td> 105</td>\n",
        "      <td> 34</td>\n",
        "      <td> 4.0</td>\n",
        "      <td> 424</td>\n",
        "    </tr>\n",
        "    <tr>\n",
        "      <th>\n",
        "Seaport Boston Hotel</th>\n",
        "      <td>  98</td>\n",
        "      <td> 1113</td>\n",
        "      <td> 5.0</td>\n",
        "      <td> 552</td>\n",
        "      <td> 1883</td>\n",
        "      <td> 461</td>\n",
        "      <td> 4.5</td>\n",
        "      <td> 33</td>\n",
        "      <td> 4.5</td>\n",
        "      <td> 4.5</td>\n",
        "      <td> 4.5</td>\n",
        "      <td> 108</td>\n",
        "      <td> 31</td>\n",
        "      <td> 4.5</td>\n",
        "      <td> 506</td>\n",
        "    </tr>\n",
        "    <tr>\n",
        "      <th>\n",
        "Hotel Commonwealth</th>\n",
        "      <td>  81</td>\n",
        "      <td>  585</td>\n",
        "      <td> 5.0</td>\n",
        "      <td> 853</td>\n",
        "      <td> 2372</td>\n",
        "      <td> 916</td>\n",
        "      <td> 5.0</td>\n",
        "      <td> 39</td>\n",
        "      <td> 5.0</td>\n",
        "      <td> 5.0</td>\n",
        "      <td> 5.0</td>\n",
        "      <td> 147</td>\n",
        "      <td> 13</td>\n",
        "      <td> 4.5</td>\n",
        "      <td> 442</td>\n",
        "    </tr>\n",
        "    <tr>\n",
        "      <th>\n",
        "Boston Harbor Hotel</th>\n",
        "      <td>  44</td>\n",
        "      <td>  255</td>\n",
        "      <td> 5.0</td>\n",
        "      <td> 462</td>\n",
        "      <td>  992</td>\n",
        "      <td> 285</td>\n",
        "      <td> 5.0</td>\n",
        "      <td> 15</td>\n",
        "      <td> 4.5</td>\n",
        "      <td> 5.0</td>\n",
        "      <td> 4.5</td>\n",
        "      <td>  55</td>\n",
        "      <td> 11</td>\n",
        "      <td> 4.5</td>\n",
        "      <td> 189</td>\n",
        "    </tr>\n",
        "    <tr>\n",
        "      <th>\n",
        "enVision Hotel Boston</th>\n",
        "      <td>  21</td>\n",
        "      <td>   64</td>\n",
        "      <td> 5.0</td>\n",
        "      <td> 102</td>\n",
        "      <td>  246</td>\n",
        "      <td> 104</td>\n",
        "      <td> 4.0</td>\n",
        "      <td>  7</td>\n",
        "      <td> 4.5</td>\n",
        "      <td> 4.5</td>\n",
        "      <td> 4.5</td>\n",
        "      <td>  29</td>\n",
        "      <td>  1</td>\n",
        "      <td> 4.5</td>\n",
        "      <td>  85</td>\n",
        "    </tr>\n",
        "  </tbody>\n",
        "</table>\n",
        "</div>"
       ],
       "metadata": {},
       "output_type": "pyout",
       "prompt_number": 38,
       "text": [
        "                        Average  Business  Cleanliness  Couples  Excellent  \\\n",
        "Hotel Name                                                                   \n",
        "                            166       329          4.5      335        480   \n",
        "Hyatt Boston Harbor          98      1113          5.0      552       1883   \n",
        "                             81       585          5.0      853       2372   \n",
        "Seaport Boston Hotel         44       255          5.0      462        992   \n",
        "                             21        64          5.0      102        246   \n",
        "Hotel Commonwealth                                                           \n",
        "                                                                             \n",
        "Boston Harbor Hotel                                                          \n",
        "                                                                             \n",
        "enVision Hotel Boston                                                        \n",
        "\n",
        "                        Families  Location  Poor  Rooms  Service  \\\n",
        "Hotel Name                                                         \n",
        "                             240       4.5    67    4.0      4.5   \n",
        "Hyatt Boston Harbor          461       4.5    33    4.5      4.5   \n",
        "                             916       5.0    39    5.0      5.0   \n",
        "Seaport Boston Hotel         285       5.0    15    4.5      5.0   \n",
        "                             104       4.0     7    4.5      4.5   \n",
        "Hotel Commonwealth                                                 \n",
        "                                                                   \n",
        "Boston Harbor Hotel                                                \n",
        "                                                                   \n",
        "enVision Hotel Boston                                              \n",
        "\n",
        "                        Sleep Quality  Solo  Terrible  Value  Very good  \n",
        "Hotel Name                                                               \n",
        "                                  4.0   105        34    4.0        424  \n",
        "Hyatt Boston Harbor               4.5   108        31    4.5        506  \n",
        "                                  5.0   147        13    4.5        442  \n",
        "Seaport Boston Hotel              4.5    55        11    4.5        189  \n",
        "                                  4.5    29         1    4.5         85  \n",
        "Hotel Commonwealth                                                       \n",
        "                                                                         \n",
        "Boston Harbor Hotel                                                      \n",
        "                                                                         \n",
        "enVision Hotel Boston                                                    "
       ]
      }
     ],
     "prompt_number": 38
    },
    {
     "cell_type": "markdown",
     "metadata": {},
     "source": [
      "Task 3: Below I calculate the Average Score, and run a linear regression.\n"
     ]
    },
    {
     "cell_type": "code",
     "collapsed": false,
     "input": [
      "\n",
      "\n",
      "#Cacluate the average score for the hotels.\n",
      "df[\"AVG_SCORE\"] = (5 * df[\"Excellent\"] + 4 * df[\"Very good\"] + 3 * df[\"Average\"] + 2 * df[\"Poor\"] + df[\"Terrible\"]) / (df[\"Excellent\"] +  df[\"Very good\"] + df[\"Average\"] + df[\"Poor\"] + df[\"Terrible\"])\n",
      "\n",
      "\n",
      "y = df[\"AVG_SCORE\"]\n",
      "\n",
      "X = df.drop(\"AVG_SCORE\", 1).drop(\"Excellent\", 1).drop(\"Very good\",1).drop(\"Average\", 1).drop(\"Poor\",1).drop(\"Terrible\", 1)\n",
      "\n",
      "X_train, X_test, y_train, y_test = cross_validation.train_test_split(X, y, test_size=0.4, random_state=0)\n",
      "\n",
      "regr = linear_model.LinearRegression()\n",
      "regr.fit(X_train, y_train);\n",
      "\n",
      "print(\"Training error: \", metrics.mean_squared_error(regr.predict(X_train),y_train))\n",
      "print(\"Test     error: \", metrics.mean_squared_error(regr.predict(X_test),y_test))\n",
      "\n",
      "train_score = regr.score(X_train,y_train)\n",
      "test_score = regr.score(X_test,y_test)\n",
      "print(\"R^2 train:\", train_score)\n",
      "print(\"R^2 test:\", test_score)\n",
      "\n",
      "coefficients = regr.coef_\n",
      "for i in range(len(coefficients)):\n",
      "\n",
      " print X.columns[i],\"\\t\",coefficients[i]"
     ],
     "language": "python",
     "metadata": {},
     "outputs": [
      {
       "output_type": "stream",
       "stream": "stdout",
       "text": [
        "('Training error: ', 0.0066286284379147879)\n",
        "('Test     error: ', 0.010770132077377413)\n",
        "('R^2 train:', 0.97289233458943736)\n",
        "('R^2 test:', 0.95316144429213423)\n",
        "Business \t0.000230469331876\n",
        "Cleanliness \t0.259056671206\n",
        "Couples \t0.000391430231502\n",
        "Families \t-0.000301306028544\n",
        "Location \t0.0674654954565\n",
        "Rooms \t0.200291269135\n",
        "Service \t0.268263867255\n",
        "Sleep Quality \t0.145407354771\n",
        "Solo \t-0.00252302892444\n",
        "Value \t0.162192330338\n"
       ]
      }
     ],
     "prompt_number": 56
    },
    {
     "cell_type": "markdown",
     "metadata": {},
     "source": [
      "Looking at this output, we can see that the most important factors are the ratings for the individual components of the hotel - Rooms, Service, Sleep Quality, Value, Location and Cleanliness, while the number of reviews by different types of guests didn't appear to have as strong an effect.\n",
      "\n",
      "Among the individual ratings, Cleanliness and Service had the highest coefficients, suggesting that the percieved cleaniness and quality of service of the hotel has the highest effect on the overall rating. Then came Rooms, and Sleep Quality and Value with middling values. Location had the lowest coefficient for one of the ratings, suggesting that the location does not tend to be as heavy of a factor in a hotel's overall rating as the others. "
     ]
    },
    {
     "cell_type": "code",
     "collapsed": false,
     "input": [
      "#Logistic Regression.\n",
      "\n",
      "\n",
      "df[\"BinaryExcellent\"] =  (df[\"Excellent\"] / (df[\"Excellent\"] +  df[\"Very good\"] + df[\"Average\"] + df[\"Poor\"] + df[\"Terrible\"])) >= .6\n",
      "\n",
      "df.head(5)\n",
      "\n",
      "y = df[\"BinaryExcellent\"]\n",
      "X = df.drop(\"BinaryExcellent\",1).drop(\"AVG_SCORE\", 1).drop(\"Excellent\", 1).drop(\"Very good\",1).drop(\"Average\", 1).drop(\"Poor\",1).drop(\"Terrible\", 1)\n",
      "\n",
      "X_train, X_test, y_train, y_test = cross_validation.train_test_split(X,\n",
      "                                                                     y,\n",
      "                                                                     test_size=0.3,\n",
      "                                                                     random_state=0\n",
      "                                                                     )\n",
      "logistic_regr = linear_model.LogisticRegression()\n",
      "logistic_regr.fit(X_train, y_train)\n",
      "\n",
      "print \"Accuracy:\", metrics.accuracy_score(y_test, y_predicted)\n",
      "\n",
      "print \"Confusion Matrix:\\n\", metrics.confusion_matrix(y_test, y_predicted)\n",
      "print metrics.classification_report(y_test, y_predicted)\n",
      "\n",
      "print \"Coefficients:\"\n",
      "print pd.DataFrame(zip(X.columns, np.transpose(logistic_regr.coef_)))\n",
      "scores = cross_validation.cross_val_score(linear_model.LogisticRegression(),\n",
      "                                          X,\n",
      "                                          y,\n",
      "                                          scoring='accuracy',\n",
      "                                          cv=10)\n",
      "print \"CrossValidation Scores: \\n\", scores\n",
      "print \"Mean score on CrossValidation:\", scores.mean()"
     ],
     "language": "python",
     "metadata": {},
     "outputs": [
      {
       "output_type": "stream",
       "stream": "stdout",
       "text": [
        "Accuracy: 0.708333333333\n",
        "Confusion Matrix:\n",
        "[[15  6]\n",
        " [ 1  2]]\n",
        "             precision    recall  f1-score   support\n",
        "\n",
        "      False       0.94      0.71      0.81        21\n",
        "       True       0.25      0.67      0.36         3\n",
        "\n",
        "avg / total       0.85      0.71      0.75        24\n",
        "\n",
        "Coefficients:\n",
        "               0                     1\n",
        "0       Business    [0.00184245872885]\n",
        "1    Cleanliness     [-0.201130829476]\n",
        "2        Couples    [0.00570388660293]\n",
        "3       Families  [-2.80210854599e-05]\n",
        "4       Location      [-0.71468079984]\n",
        "5          Rooms      [0.918643086484]\n",
        "6        Service   [0.000729275773986]\n",
        "7  Sleep Quality      [0.192328859987]\n",
        "8           Solo    [-0.0495952215438]\n",
        "9          Value       [0.11548737819]\n",
        "CrossValidation Scores: \n",
        "[ 0.75        0.75        0.5         0.75        0.75        0.875       0.75\n",
        "  0.71428571  0.71428571  0.85714286]\n",
        "Mean score on CrossValidation: 0.741071428571\n"
       ]
      }
     ],
     "prompt_number": 78
    },
    {
     "cell_type": "code",
     "collapsed": false,
     "input": [
      "# Code for setting the style of the notebook\n",
      "from IPython.core.display import HTML\n",
      "def css_styling():\n",
      "    styles = open(\"../../theme/custom.css\", \"r\").read()\n",
      "    return HTML(styles)\n",
      "css_styling()"
     ],
     "language": "python",
     "metadata": {},
     "outputs": [
      {
       "html": [
        "<link href='http://fonts.googleapis.com/css?family=EB+Garamond' rel='stylesheet' type='text/css'>\n",
        "<link href='http://fonts.googleapis.com/css?family=Alegreya+Sans:100,300,400,500,700,800,900,100italic,300italic,400italic,500italic,700italic,800italic,900italic' rel='stylesheet' type='text/css'>\n",
        "<link href='http://fonts.googleapis.com/css?family=Source+Code+Pro:300,400' rel='stylesheet' type='text/css'>\n",
        "<style>\n",
        "    @font-face {\n",
        "        font-family: \"Computer Modern\";\n",
        "        src: url('http://mirrors.ctan.org/fonts/cm-unicode/fonts/otf/cmunss.otf');\n",
        "    }\n",
        "    .code_cell {\n",
        "        width: 105ex !important ;\n",
        "        margin-bottom: 15px !important;\n",
        "    }\n",
        "    div.cell {\n",
        "        margin-left: auto;\n",
        "        margin-right: auto;\n",
        "        width: 70%;\n",
        "    }    \n",
        "    div.cell.selected {\n",
        "        border: thin rgba(171, 171, 171, 0.5) dashed;\n",
        "    }\n",
        "    h1 {\n",
        "        font-family: 'Alegreya Sans', sans-serif;\n",
        "    }\n",
        "    h2 {\n",
        "        font-family: 'EB Garamond', serif;\n",
        "    }\n",
        "    h3 {\n",
        "        font-family: 'EB Garamond', serif;\n",
        "        margin-top:12px;\n",
        "        margin-bottom: 3px;\n",
        "    }\n",
        "    h4 {\n",
        "        font-family: 'EB Garamond', serif;\n",
        "    }\n",
        "    h5 {\n",
        "        font-family: 'Alegreya Sans', sans-serif;\n",
        "    }\n",
        "    div.text_cell_render {\n",
        "        font-family: 'EB Garamond',Computer Modern, \"Helvetica Neue\", Arial, Helvetica, Geneva, sans-serif;\n",
        "        line-height: 145%;\n",
        "        font-size: 140%;\n",
        "    }\n",
        "    div.input_area {\n",
        "        border-color: rgba(0,0,0,0.10) !important;\n",
        "        background: #fafafa;\n",
        "    }\n",
        "    .CodeMirror {\n",
        "            font-family: \"Source Code Pro\";\n",
        "            font-size: 90%;\n",
        "    }\n",
        "    .prompt {\n",
        "        display: None;\n",
        "    }\n",
        "    .output {\n",
        "        padding-left: 50px;\n",
        "        padding-top: 5px;\n",
        "    }\n",
        "    .output_wrapper {\n",
        "        padding-left: 5px;\n",
        "        padding-top: inherit;\n",
        "    }\n",
        "    div.output_scroll {\n",
        "        width: inherit;\n",
        "    }\n",
        "    .inner_cell {\n",
        "        padding-left: 5px;\n",
        "    }\n",
        "    .text_cell_render h1 {\n",
        "        font-weight: 200;\n",
        "        font-size: 50pt;\n",
        "        line-height: 100%;\n",
        "        color:#CD2305;\n",
        "        margin-bottom: 0.5em;\n",
        "        margin-top: 0.5em;\n",
        "        display: block;\n",
        "    }\n",
        "    .text_cell_render h5 {\n",
        "        font-weight: 300;\n",
        "        font-size: 16pt;\n",
        "        color: #CD2305;\n",
        "        font-style: italic;\n",
        "        margin-bottom: .5em;\n",
        "        margin-top: 0.5em;\n",
        "        display: block;\n",
        "    }\n",
        "    .warning {\n",
        "        color: rgb( 240, 20, 20 )\n",
        "        }  \n",
        "</style>\n",
        "<script>\n",
        "    MathJax.Hub.Config({\n",
        "                        TeX: {\n",
        "                           extensions: [\"AMSmath.js\"]\n",
        "                           },\n",
        "                tex2jax: {\n",
        "                    inlineMath: [ ['$','$'], [\"\\\\(\",\"\\\\)\"] ],\n",
        "                    displayMath: [ ['$$','$$'], [\"\\\\[\",\"\\\\]\"] ]\n",
        "                },\n",
        "                displayAlign: 'center', // Change this to 'center' to center equations.\n",
        "                \"HTML-CSS\": {\n",
        "                    styles: {'.MathJax_Display': {\"margin\": 4}}\n",
        "                }\n",
        "        });\n",
        "</script>"
       ],
       "metadata": {},
       "output_type": "pyout",
       "prompt_number": 58,
       "text": [
        "<IPython.core.display.HTML at 0x7f0e34646b50>"
       ]
      }
     ],
     "prompt_number": 58
    },
    {
     "cell_type": "code",
     "collapsed": false,
     "input": [],
     "language": "python",
     "metadata": {},
     "outputs": []
    }
   ],
   "metadata": {}
  }
 ]
}
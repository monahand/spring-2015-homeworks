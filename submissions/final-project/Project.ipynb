{
 "metadata": {
  "name": "",
  "signature": "sha256:dcb9d15739620bffdc103d4a2155af3fdda97cd63eac03820233e815380bb885"
 },
 "nbformat": 3,
 "nbformat_minor": 0,
 "worksheets": [
  {
   "cells": [
    {
     "cell_type": "heading",
     "level": 1,
     "metadata": {},
     "source": [
      "NYC Taxi Data Analysis"
     ]
    },
    {
     "cell_type": "markdown",
     "metadata": {},
     "source": [
      "Data was obtained from http://www.andresmh.com/nyctaxitrips/\n",
      "Due to size of data, a small slice was analyzed by splitting the first file trip_data1.csv into parts of 1 million lines each, using the unix command \"split -l 1000000 trip_data1.csv spilt\", and the data from the first file, splitaa.csv was used here.\n"
     ]
    },
    {
     "cell_type": "code",
     "collapsed": false,
     "input": [
      "import pandas as pd\n",
      "\n",
      "import matplotlib.pyplot as plt\n",
      "import matplotlib as mpl\n",
      "import seaborn as sns\n",
      "import matplotlib.dates as mdates\n",
      "\n",
      "from datetime import datetime\n",
      "from datetime import timedelta\n",
      "import sklearn.metrics as metrics\n",
      "from sklearn.cluster import KMeans\n",
      "from sklearn.preprocessing import StandardScaler\n",
      "import sklearn.utils as utils\n",
      "import sklearn.linear_model as linear_model\n",
      "import sklearn.cross_validation as cross_validation\n",
      "import numpy as np\n",
      "import statsmodels.api as sm\n",
      "from scipy.spatial.distance import pdist, squareform\n",
      "\n",
      "%matplotlib inline"
     ],
     "language": "python",
     "metadata": {},
     "outputs": [],
     "prompt_number": 51
    },
    {
     "cell_type": "code",
     "collapsed": false,
     "input": [
      "trip_df = pd.read_csv('splitaa.csv', parse_dates = [5, 6])\n"
     ],
     "language": "python",
     "metadata": {},
     "outputs": [],
     "prompt_number": 2
    },
    {
     "cell_type": "code",
     "collapsed": false,
     "input": [
      "trip_df[['pickup_datetime', 'dropoff_datetime', 'passenger_count', 'trip_time_in_secs', 'trip_distance', 'pickup_longitude', 'pickup_latitude', 'dropoff_longitude', 'dropoff_latitude']].head()"
     ],
     "language": "python",
     "metadata": {},
     "outputs": [
      {
       "html": [
        "<div style=\"max-height:1000px;max-width:1500px;overflow:auto;\">\n",
        "<table border=\"1\" class=\"dataframe\">\n",
        "  <thead>\n",
        "    <tr style=\"text-align: right;\">\n",
        "      <th></th>\n",
        "      <th>pickup_datetime</th>\n",
        "      <th>dropoff_datetime</th>\n",
        "      <th>passenger_count</th>\n",
        "      <th>trip_time_in_secs</th>\n",
        "      <th>trip_distance</th>\n",
        "      <th>pickup_longitude</th>\n",
        "      <th>pickup_latitude</th>\n",
        "      <th>dropoff_longitude</th>\n",
        "      <th>dropoff_latitude</th>\n",
        "    </tr>\n",
        "  </thead>\n",
        "  <tbody>\n",
        "    <tr>\n",
        "      <th>0</th>\n",
        "      <td>2013-01-01 15:11:48</td>\n",
        "      <td>2013-01-01 15:18:10</td>\n",
        "      <td> 4</td>\n",
        "      <td> 382</td>\n",
        "      <td> 1.0</td>\n",
        "      <td>-73.978165</td>\n",
        "      <td> 40.757977</td>\n",
        "      <td>-73.989838</td>\n",
        "      <td> 40.751171</td>\n",
        "    </tr>\n",
        "    <tr>\n",
        "      <th>1</th>\n",
        "      <td>2013-01-06 00:18:35</td>\n",
        "      <td>2013-01-06 00:22:54</td>\n",
        "      <td> 1</td>\n",
        "      <td> 259</td>\n",
        "      <td> 1.5</td>\n",
        "      <td>-74.006683</td>\n",
        "      <td> 40.731781</td>\n",
        "      <td>-73.994499</td>\n",
        "      <td> 40.750660</td>\n",
        "    </tr>\n",
        "    <tr>\n",
        "      <th>2</th>\n",
        "      <td>2013-01-05 18:49:41</td>\n",
        "      <td>2013-01-05 18:54:23</td>\n",
        "      <td> 1</td>\n",
        "      <td> 282</td>\n",
        "      <td> 1.1</td>\n",
        "      <td>-74.004707</td>\n",
        "      <td> 40.737770</td>\n",
        "      <td>-74.009834</td>\n",
        "      <td> 40.726002</td>\n",
        "    </tr>\n",
        "    <tr>\n",
        "      <th>3</th>\n",
        "      <td>2013-01-07 23:54:15</td>\n",
        "      <td>2013-01-07 23:58:20</td>\n",
        "      <td> 2</td>\n",
        "      <td> 244</td>\n",
        "      <td> 0.7</td>\n",
        "      <td>-73.974602</td>\n",
        "      <td> 40.759945</td>\n",
        "      <td>-73.984734</td>\n",
        "      <td> 40.759388</td>\n",
        "    </tr>\n",
        "    <tr>\n",
        "      <th>4</th>\n",
        "      <td>2013-01-07 23:25:03</td>\n",
        "      <td>2013-01-07 23:34:24</td>\n",
        "      <td> 1</td>\n",
        "      <td> 560</td>\n",
        "      <td> 2.1</td>\n",
        "      <td>-73.976250</td>\n",
        "      <td> 40.748528</td>\n",
        "      <td>-74.002586</td>\n",
        "      <td> 40.747868</td>\n",
        "    </tr>\n",
        "  </tbody>\n",
        "</table>\n",
        "</div>"
       ],
       "metadata": {},
       "output_type": "pyout",
       "prompt_number": 3,
       "text": [
        "      pickup_datetime    dropoff_datetime  passenger_count  trip_time_in_secs  \\\n",
        "0 2013-01-01 15:11:48 2013-01-01 15:18:10                4                382   \n",
        "1 2013-01-06 00:18:35 2013-01-06 00:22:54                1                259   \n",
        "2 2013-01-05 18:49:41 2013-01-05 18:54:23                1                282   \n",
        "3 2013-01-07 23:54:15 2013-01-07 23:58:20                2                244   \n",
        "4 2013-01-07 23:25:03 2013-01-07 23:34:24                1                560   \n",
        "\n",
        "   trip_distance  pickup_longitude  pickup_latitude  dropoff_longitude  \\\n",
        "0            1.0        -73.978165        40.757977         -73.989838   \n",
        "1            1.5        -74.006683        40.731781         -73.994499   \n",
        "2            1.1        -74.004707        40.737770         -74.009834   \n",
        "3            0.7        -73.974602        40.759945         -73.984734   \n",
        "4            2.1        -73.976250        40.748528         -74.002586   \n",
        "\n",
        "   dropoff_latitude  \n",
        "0         40.751171  \n",
        "1         40.750660  \n",
        "2         40.726002  \n",
        "3         40.759388  \n",
        "4         40.747868  "
       ]
      }
     ],
     "prompt_number": 3
    },
    {
     "cell_type": "code",
     "collapsed": false,
     "input": [
      "# Filtering out outliers and nonsensical coordinates based on Longitude and Latitude\n",
      "#This is to prevent Coordinates like 3000, -3000 from showing up, which seem to be errors in the data.\n",
      "trip_df = trip_df[trip_df.pickup_latitude  > 40]\n",
      "trip_df = trip_df[trip_df.pickup_latitude  < 42]\n",
      "trip_df = trip_df[trip_df.pickup_longitude  > -76]\n",
      "trip_df = trip_df[trip_df.pickup_longitude  < -72]\n",
      "\n",
      "\n",
      "trip_df = trip_df[trip_df.dropoff_latitude  > 40]\n",
      "trip_df = trip_df[trip_df.dropoff_latitude  < 42]\n",
      "trip_df = trip_df[trip_df.dropoff_longitude  > -75]\n",
      "trip_df = trip_df[trip_df.dropoff_longitude  < -72]\n",
      "\n",
      "\n",
      "\n"
     ],
     "language": "python",
     "metadata": {},
     "outputs": [],
     "prompt_number": 4
    },
    {
     "cell_type": "code",
     "collapsed": false,
     "input": [
      "#trip_df.info()\n",
      "#Some basic statistcs of the data\n",
      "print \"Number of unique medallions in the data:\", trip_df.medallion.nunique()\n",
      "\n",
      "maxTripLength = trip_df.trip_distance.max()\n",
      "maxTripTime = trip_df.trip_time_in_secs.max()\n",
      "firstDate = trip_df.pickup_datetime.min()\n",
      "lastDate = trip_df.pickup_datetime.max()\n",
      "print \"Mean latitude:\", trip_df.pickup_latitude.mean(), \"Mean Longitude: \", trip_df.pickup_longitude.mean()\n",
      "\n",
      "print 'max length : ', maxTripLength, 'max time: ', str(maxTripTime) + ' seconds'\n",
      "print \"First Date: \", firstDate, \"LastDate : \", lastDate"
     ],
     "language": "python",
     "metadata": {},
     "outputs": [
      {
       "output_type": "stream",
       "stream": "stdout",
       "text": [
        "Number of unique medallions in the data: "
       ]
      },
      {
       "output_type": "stream",
       "stream": "stdout",
       "text": [
        "9120\n",
        "Mean latitude: 40.7515725853 Mean Longitude:  -73.9742251286\n",
        "max length :  95.85 max time:  10800 seconds\n",
        "First Date:  2013-01-01 00:00:00 LastDate :  2013-01-20 23:59:27\n"
       ]
      }
     ],
     "prompt_number": 5
    },
    {
     "cell_type": "code",
     "collapsed": false,
     "input": [
      "print  'Mean # of passengers: ',trip_df.passenger_count.mean()\n",
      "print 'Mean distance: ', trip_df.trip_distance.mean()\n",
      "print 'Mean trip time: ', trip_df.trip_time_in_secs.mean()\n",
      "print 'Average hour of day: ', trip_df.pickup_datetime.apply(lambda x: x.hour).mean()\n",
      "\n",
      "#averageSpeed = trip_df.trip_distance / (((trip_df.trip_time_in_secs).astype(float) /60.0 ) / 60.0)\n",
      "#averageSpeed = (trip_df.trip_distance / trip_df.trip_time_in_secs)\n",
      "trip_df = trip_df[trip_df['trip_distance'] > 0]\n",
      "trip_df = trip_df[trip_df['trip_time_in_secs'] > 10]\n",
      "averageSpeed = (trip_df.trip_distance / (  (trip_df.trip_time_in_secs / 60.0) /60.0   ))\n",
      "print \"Median Speed :\" averageSpeed.median()"
     ],
     "language": "python",
     "metadata": {},
     "outputs": [
      {
       "ename": "SyntaxError",
       "evalue": "invalid syntax (<ipython-input-6-70a8dfedf416>, line 11)",
       "output_type": "pyerr",
       "traceback": [
        "\u001b[1;36m  File \u001b[1;32m\"<ipython-input-6-70a8dfedf416>\"\u001b[1;36m, line \u001b[1;32m11\u001b[0m\n\u001b[1;33m    print \"Median Speed :\" averageSpeed.median()\u001b[0m\n\u001b[1;37m                                      ^\u001b[0m\n\u001b[1;31mSyntaxError\u001b[0m\u001b[1;31m:\u001b[0m invalid syntax\n"
       ]
      }
     ],
     "prompt_number": 6
    },
    {
     "cell_type": "code",
     "collapsed": false,
     "input": [
      "#In order to plot datetimes with matplotlib, this preprocessing is necessary:\n",
      "#pltpickuptime = trip_df.pickup_datetime.apply(lambda x: mdates.date2num(x))\n",
      "\n",
      "\n"
     ],
     "language": "python",
     "metadata": {},
     "outputs": [],
     "prompt_number": 7
    },
    {
     "cell_type": "code",
     "collapsed": false,
     "input": [
      "#Plots of the pick ups and drop off coordinates\n",
      "plt.scatter(trip_df.pickup_longitude, trip_df.pickup_latitude)\n",
      "plt.xlabel(\"Pick Up Longitude\")\n",
      "plt.ylabel(\"Pick Up Latitude\")\n",
      "plt.show()\n",
      "\n",
      "plt.scatter(trip_df.dropoff_longitude, trip_df.dropoff_latitude)\n",
      "plt.xlabel(\"Drop Off Longitude\")\n",
      "plt.ylabel(\"Drop Off Latitude\")\n",
      "plt.show()"
     ],
     "language": "python",
     "metadata": {},
     "outputs": [
      {
       "metadata": {},
       "output_type": "display_data",
       "png": "[encoded data removed]",
       "text": [
        "<matplotlib.figure.Figure at 0x7fede13b3750>"
       ]
      },
      {
       "metadata": {},
       "output_type": "display_data",
       "png": "[encoded data removed]",
       "text": [
        "<matplotlib.figure.Figure at 0x7fedae215890>"
       ]
      }
     ],
     "prompt_number": 8
    },
    {
     "cell_type": "code",
     "collapsed": false,
     "input": [
      "plt.hist(trip_df.trip_time_in_secs)\n",
      "plt.xlabel(\"Trip Time (seconds)\")\n",
      "plt.show()\n",
      "plt.hist(trip_df.trip_distance)\n",
      "plt.xlabel(\"Trip Distance (miles)\")\n",
      "plt.show()\n",
      "\n",
      "print trip_df.trip_time_in_secs[trip_df.trip_time_in_secs < 1000].size\n",
      "print trip_df.trip_distance[trip_df.trip_distance < 10].size\n",
      "print trip_df.trip_time_in_secs.size"
     ],
     "language": "python",
     "metadata": {},
     "outputs": [
      {
       "metadata": {},
       "output_type": "display_data",
       "png": "[encoded data removed]",
       "text": [
        "<matplotlib.figure.Figure at 0x7fedad8bb350>"
       ]
      },
      {
       "metadata": {},
       "output_type": "display_data",
       "png": "[encoded data removed]",
       "text": [
        "<matplotlib.figure.Figure at 0x7fedaed98d10>"
       ]
      },
      {
       "output_type": "stream",
       "stream": "stdout",
       "text": [
        "782838\n",
        "930575\n",
        "979753\n"
       ]
      }
     ],
     "prompt_number": 9
    },
    {
     "cell_type": "code",
     "collapsed": false,
     "input": [
      "plt.hist(trip_df.passenger_count)\n",
      "plt.xlabel(\"Number of passengers\")"
     ],
     "language": "python",
     "metadata": {},
     "outputs": [
      {
       "metadata": {},
       "output_type": "pyout",
       "prompt_number": 10,
       "text": [
        "<matplotlib.text.Text at 0x7fedaeea1150>"
       ]
      },
      {
       "metadata": {},
       "output_type": "display_data",
       "png": "[encoded data removed]",
       "text": [
        "<matplotlib.figure.Figure at 0x7fedaddc4b10>"
       ]
      }
     ],
     "prompt_number": 10
    },
    {
     "cell_type": "code",
     "collapsed": false,
     "input": [
      "for i in range(0, 10):\n",
      "    trip_dfTemp = trip_df.reset_index(drop = True).sort(columns = 'pickup_datetime')[100000 * i:(100000 * i) + 1000]\n",
      "    print trip_dfTemp.pickup_datetime.min()\n",
      "    print trip_dfTemp.pickup_datetime.max()\n",
      "\n",
      "    #print (trip_dfTemp[0:1].pickup_datetime - trip_dfTemp[1:2].pickup_datetime)\n",
      "    seg = pd.concat([trip_dfTemp.pickup_latitude, trip_dfTemp.pickup_longitude, trip_dfTemp.dropoff_latitude, trip_dfTemp.dropoff_longitude], axis =1)\n",
      "\n",
      "    dists = squareform(pdist(seg))\n",
      "    dist_min = .015\n",
      "    datemin = timedelta(hours = 60)\n",
      "    closepicks = []\n",
      "    for i in range(0 ,1000):\n",
      "    \n",
      "        close_points = (dists[i] < dist_min)\n",
      "        closepicks.append(close_points.sum() - 1)\n",
      "\n",
      "    print sum(closepicks)//len(closepicks)\n",
      "    \n"
     ],
     "language": "python",
     "metadata": {},
     "outputs": [
      {
       "output_type": "stream",
       "stream": "stdout",
       "text": [
        "2013-01-01 00:00:00\n",
        "2013-01-01 00:09:00\n",
        "15\n",
        "2013-01-13 07:27:00"
       ]
      },
      {
       "output_type": "stream",
       "stream": "stdout",
       "text": [
        "\n",
        "2013-01-13 07:52:00\n",
        "13\n",
        "2013-01-13 18:32:00"
       ]
      },
      {
       "output_type": "stream",
       "stream": "stdout",
       "text": [
        "\n",
        "2013-01-13 18:37:00\n",
        "21"
       ]
      },
      {
       "output_type": "stream",
       "stream": "stdout",
       "text": [
        "\n",
        "2013-01-14 10:12:00"
       ]
      },
      {
       "output_type": "stream",
       "stream": "stdout",
       "text": [
        "\n",
        "2013-01-14 10:18:00\n",
        "30\n",
        "2013-01-14 19:18:00"
       ]
      },
      {
       "output_type": "stream",
       "stream": "stdout",
       "text": [
        "\n",
        "2013-01-14 19:22:00\n",
        "26\n",
        "2013-01-15 08:57:00"
       ]
      },
      {
       "output_type": "stream",
       "stream": "stdout",
       "text": [
        "\n",
        "2013-01-15 09:01:00\n",
        "36\n",
        "2013-01-15 17:26:00"
       ]
      },
      {
       "output_type": "stream",
       "stream": "stdout",
       "text": [
        "\n",
        "2013-01-15 17:30:00\n",
        "23\n",
        "2013-01-16 00:31:00"
       ]
      },
      {
       "output_type": "stream",
       "stream": "stdout",
       "text": [
        "\n",
        "2013-01-16 00:41:00\n",
        "17\n",
        "2013-01-16 13:32:00"
       ]
      },
      {
       "output_type": "stream",
       "stream": "stdout",
       "text": [
        "\n",
        "2013-01-16 13:37:00\n",
        "35\n",
        "2013-01-16 21:02:00"
       ]
      },
      {
       "output_type": "stream",
       "stream": "stdout",
       "text": [
        "\n",
        "2013-01-16 21:06:00\n",
        "24\n"
       ]
      }
     ],
     "prompt_number": 95
    },
    {
     "cell_type": "code",
     "collapsed": false,
     "input": [
      "plt.hist(trip_df.pickup_datetime.apply(lambda x: x.hour), bins = 24)\n",
      "plt.xlabel(\"Hour of day\")\n",
      "plt.ylabel(\"Number of trips\")"
     ],
     "language": "python",
     "metadata": {},
     "outputs": [
      {
       "metadata": {},
       "output_type": "pyout",
       "prompt_number": 77,
       "text": [
        "<matplotlib.text.Text at 0x7fe51b215650>"
       ]
      },
      {
       "metadata": {},
       "output_type": "display_data",
       "png": "[encoded data removed]",
       "text": [
        "<matplotlib.figure.Figure at 0x7fe51b1aab50>"
       ]
      }
     ],
     "prompt_number": 77
    },
    {
     "cell_type": "code",
     "collapsed": false,
     "input": [
      "plt.scatter(trip_df.passenger_count, trip_df.trip_distance)\n",
      "plt.xlabel(\"Number of passengers\")\n",
      "plt.ylabel(\"Trip distance\")\n",
      "plt.show()"
     ],
     "language": "python",
     "metadata": {},
     "outputs": [
      {
       "metadata": {},
       "output_type": "display_data",
       "png": "[encoded data removed]",
       "text": [
        "<matplotlib.figure.Figure at 0x7fe51b286ad0>"
       ]
      }
     ],
     "prompt_number": 78
    },
    {
     "cell_type": "code",
     "collapsed": false,
     "input": [
      "passengergroup = trip_df.groupby('passenger_count')\n",
      "\n",
      "passengermean = passengergroup.mean()\n",
      "\n",
      "\n",
      "\n",
      "\n",
      "plt.plot(passengermean.index.tolist()[1:], passengermean.trip_time_in_secs[1:])\n",
      "plt.xlabel(\"Number of passengers\")\n",
      "plt.ylabel(\"Trip Time (s)\")\n",
      "\n",
      "plt.show()\n",
      "\n",
      "plt.plot(passengermean.index.tolist()[1:], passengermean.trip_distance[1:])\n",
      "plt.xlabel(\"Passenger Count\")\n",
      "plt.ylabel(\"Trip Distance (mi)\")\n",
      "plt.show()\n"
     ],
     "language": "python",
     "metadata": {},
     "outputs": [
      {
       "metadata": {},
       "output_type": "display_data",
       "png": "[encoded data removed]",
       "text": [
        "<matplotlib.figure.Figure at 0x7fe51b1d6090>"
       ]
      },
      {
       "metadata": {},
       "output_type": "display_data",
       "png": "[encoded data removed]",
       "text": [
        "<matplotlib.figure.Figure at 0x7fe51b1a6b10>"
       ]
      }
     ],
     "prompt_number": 13
    },
    {
     "cell_type": "code",
     "collapsed": false,
     "input": [
      "#Cluster a slice for mapping it in CartoDB (first 100,000 rows)\n",
      "\n",
      "Coords = trip_df[['dropoff_longitude', 'dropoff_latitude']]\n",
      "#scaler = StandardScaler().fit(Coords)\n",
      "#CoordsScaled = scaler.transform(Coords)\n",
      "#CoordsScaledCluster = CoordsScaled[0:100000]\n",
      "CoordsCluster = Coords[0:90000]\n",
      "CoordsCluster2 = CoordsCluster.reset_index(drop=True)\n",
      "k = 7\n",
      "kmeans = KMeans(init='k-means++', n_clusters=k, n_init=10)\n",
      "assignment = kmeans.fit_predict(CoordsCluster)    \n",
      "cmap = sns.hls_palette(n_colors=k, h=0.35, l=0.4, s=0.9)\n",
      "\n",
      "assignSer = pd.DataFrame({'cluster' : assignment})\n",
      "\n",
      "clustercsv = pd.concat([CoordsCluster2, assignSer], axis = 1)\n",
      "\n",
      "clustercsv.to_csv(\"cluster.csv\")\n",
      "\n",
      "for i in range(0,k):\n",
      "    Lat = []\n",
      "    Long = []\n",
      "    for j in range(0,len(assignment)):\n",
      "        if(assignment[j] == i):\n",
      "            Lat.append(CoordsScaledCluster[j, 1])\n",
      "            Long.append(CoordsScaledCluster[j, 0])\n",
      "    plt.scatter(Lat, Long, c=cmap[i])"
     ],
     "language": "python",
     "metadata": {},
     "outputs": [
      {
       "metadata": {},
       "output_type": "display_data",
       "png": "[encoded data removed]",
       "text": [
        "<matplotlib.figure.Figure at 0x7fe526ae7c10>"
       ]
      }
     ],
     "prompt_number": 54
    },
    {
     "cell_type": "code",
     "collapsed": false,
     "input": [
      "#Cluster the entire dataset based on dropoff coordinates\n",
      "Coords = trip_df[['dropoff_longitude', 'dropoff_latitude']][0:100000]\n",
      "\n",
      "k = 6\n",
      "kmeans = KMeans(init='k-means++', n_clusters=k, n_init=10)\n",
      "assignment = kmeans.fit_predict(Coords)    "
     ],
     "language": "python",
     "metadata": {},
     "outputs": [],
     "prompt_number": 60
    },
    {
     "cell_type": "code",
     "collapsed": false,
     "input": [
      "clustered = trip_df.reset_index(drop = True)[0:100000]\n",
      "\n",
      "assignmentSeries = pd.DataFrame({'cluster' : assignment})\n",
      "clustered = pd.concat([clustered, assignmentSeries], axis = 1)\n",
      "clustered.head()\n",
      "clustercsv = clustered\n",
      "clustercsv.to_csv(\"clust.csv\")\n",
      "clusterGroup = clustered.groupby('cluster')\n",
      "\n"
     ],
     "language": "python",
     "metadata": {},
     "outputs": [
      {
       "html": [
        "<div style=\"max-height:1000px;max-width:1500px;overflow:auto;\">\n",
        "<table border=\"1\" class=\"dataframe\">\n",
        "  <thead>\n",
        "    <tr style=\"text-align: right;\">\n",
        "      <th></th>\n",
        "      <th>rate_code</th>\n",
        "      <th>passenger_count</th>\n",
        "      <th>trip_time_in_secs</th>\n",
        "      <th>trip_distance</th>\n",
        "      <th>pickup_longitude</th>\n",
        "      <th>pickup_latitude</th>\n",
        "      <th>dropoff_longitude</th>\n",
        "      <th>dropoff_latitude</th>\n",
        "    </tr>\n",
        "    <tr>\n",
        "      <th>cluster</th>\n",
        "      <th></th>\n",
        "      <th></th>\n",
        "      <th></th>\n",
        "      <th></th>\n",
        "      <th></th>\n",
        "      <th></th>\n",
        "      <th></th>\n",
        "      <th></th>\n",
        "    </tr>\n",
        "  </thead>\n",
        "  <tbody>\n",
        "    <tr>\n",
        "      <th>0</th>\n",
        "      <td> 1.024658</td>\n",
        "      <td> 2.162736</td>\n",
        "      <td>  588.568669</td>\n",
        "      <td>  2.387597</td>\n",
        "      <td>-73.973650</td>\n",
        "      <td> 40.753722</td>\n",
        "      <td>-73.982328</td>\n",
        "      <td> 40.757140</td>\n",
        "    </tr>\n",
        "    <tr>\n",
        "      <th>1</th>\n",
        "      <td> 1.758598</td>\n",
        "      <td> 2.222222</td>\n",
        "      <td> 1587.914021</td>\n",
        "      <td> 14.625985</td>\n",
        "      <td>-73.933340</td>\n",
        "      <td> 40.732480</td>\n",
        "      <td>-73.784846</td>\n",
        "      <td> 40.657048</td>\n",
        "    </tr>\n",
        "    <tr>\n",
        "      <th>2</th>\n",
        "      <td> 1.035903</td>\n",
        "      <td> 2.132583</td>\n",
        "      <td>  647.514249</td>\n",
        "      <td>  2.509586</td>\n",
        "      <td>-73.985541</td>\n",
        "      <td> 40.741175</td>\n",
        "      <td>-73.998674</td>\n",
        "      <td> 40.729140</td>\n",
        "    </tr>\n",
        "    <tr>\n",
        "      <th>3</th>\n",
        "      <td> 1.025105</td>\n",
        "      <td> 2.187986</td>\n",
        "      <td> 1207.988344</td>\n",
        "      <td>  9.020786</td>\n",
        "      <td>-73.952566</td>\n",
        "      <td> 40.748865</td>\n",
        "      <td>-73.872487</td>\n",
        "      <td> 40.769478</td>\n",
        "    </tr>\n",
        "    <tr>\n",
        "      <th>4</th>\n",
        "      <td> 1.014084</td>\n",
        "      <td> 2.180772</td>\n",
        "      <td>  552.222433</td>\n",
        "      <td>  2.521094</td>\n",
        "      <td>-73.966373</td>\n",
        "      <td> 40.768297</td>\n",
        "      <td>-73.958848</td>\n",
        "      <td> 40.783621</td>\n",
        "    </tr>\n",
        "    <tr>\n",
        "      <th>5</th>\n",
        "      <td> 1.006736</td>\n",
        "      <td> 2.135841</td>\n",
        "      <td> 1224.684536</td>\n",
        "      <td>  6.311196</td>\n",
        "      <td>-73.957931</td>\n",
        "      <td> 40.718525</td>\n",
        "      <td>-73.969079</td>\n",
        "      <td> 40.684386</td>\n",
        "    </tr>\n",
        "  </tbody>\n",
        "</table>\n",
        "</div>"
       ],
       "metadata": {},
       "output_type": "pyout",
       "prompt_number": 61,
       "text": [
        "         rate_code  passenger_count  trip_time_in_secs  trip_distance  \\\n",
        "cluster                                                                 \n",
        "0         1.024658         2.162736         588.568669       2.387597   \n",
        "1         1.758598         2.222222        1587.914021      14.625985   \n",
        "2         1.035903         2.132583         647.514249       2.509586   \n",
        "3         1.025105         2.187986        1207.988344       9.020786   \n",
        "4         1.014084         2.180772         552.222433       2.521094   \n",
        "5         1.006736         2.135841        1224.684536       6.311196   \n",
        "\n",
        "         pickup_longitude  pickup_latitude  dropoff_longitude  \\\n",
        "cluster                                                         \n",
        "0              -73.973650        40.753722         -73.982328   \n",
        "1              -73.933340        40.732480         -73.784846   \n",
        "2              -73.985541        40.741175         -73.998674   \n",
        "3              -73.952566        40.748865         -73.872487   \n",
        "4              -73.966373        40.768297         -73.958848   \n",
        "5              -73.957931        40.718525         -73.969079   \n",
        "\n",
        "         dropoff_latitude  \n",
        "cluster                    \n",
        "0               40.757140  \n",
        "1               40.657048  \n",
        "2               40.729140  \n",
        "3               40.769478  \n",
        "4               40.783621  \n",
        "5               40.684386  "
       ]
      }
     ],
     "prompt_number": 61
    },
    {
     "cell_type": "code",
     "collapsed": false,
     "input": [
      "clusterGroup.mean()\n",
      "clustered = clustered[clustered['trip_distance'] > 0]\n",
      "clustered = clustered[clustered['trip_time_in_secs'] > 10]\n",
      "averageSpeed = clustered.trip_distance / (((clustered.trip_time_in_secs).astype(float) /60.0 ) / 60.0)\n",
      "\n",
      "avgspeed =pd.concat([clustered.cluster, averageSpeed], axis = 1)\n",
      "avgspeed.columns = ['cluster', 'avg_speed']\n",
      "avgspeed.groupby('cluster').mean()"
     ],
     "language": "python",
     "metadata": {},
     "outputs": [
      {
       "html": [
        "<div style=\"max-height:1000px;max-width:1500px;overflow:auto;\">\n",
        "<table border=\"1\" class=\"dataframe\">\n",
        "  <thead>\n",
        "    <tr style=\"text-align: right;\">\n",
        "      <th></th>\n",
        "      <th>avg_speed</th>\n",
        "    </tr>\n",
        "    <tr>\n",
        "      <th>cluster</th>\n",
        "      <th></th>\n",
        "    </tr>\n",
        "  </thead>\n",
        "  <tbody>\n",
        "    <tr>\n",
        "      <th>0</th>\n",
        "      <td> 13.680254</td>\n",
        "    </tr>\n",
        "    <tr>\n",
        "      <th>1</th>\n",
        "      <td> 33.274874</td>\n",
        "    </tr>\n",
        "    <tr>\n",
        "      <th>2</th>\n",
        "      <td> 13.268842</td>\n",
        "    </tr>\n",
        "    <tr>\n",
        "      <th>3</th>\n",
        "      <td> 27.076433</td>\n",
        "    </tr>\n",
        "    <tr>\n",
        "      <th>4</th>\n",
        "      <td> 15.661445</td>\n",
        "    </tr>\n",
        "    <tr>\n",
        "      <th>5</th>\n",
        "      <td> 18.149048</td>\n",
        "    </tr>\n",
        "  </tbody>\n",
        "</table>\n",
        "</div>"
       ],
       "metadata": {},
       "output_type": "pyout",
       "prompt_number": 76,
       "text": [
        "         avg_speed\n",
        "cluster           \n",
        "0        13.680254\n",
        "1        33.274874\n",
        "2        13.268842\n",
        "3        27.076433\n",
        "4        15.661445\n",
        "5        18.149048"
       ]
      }
     ],
     "prompt_number": 76
    },
    {
     "cell_type": "code",
     "collapsed": false,
     "input": [
      "#Creating slice of data to use in CartoDB\n",
      "Coords = trip_df[['pickup_longitude', 'pickup_latitude']]\n",
      "cutoff = Coords[:100000]\n",
      "cutoff.to_csv('cutoff.csv')\n"
     ],
     "language": "python",
     "metadata": {},
     "outputs": [],
     "prompt_number": 224
    },
    {
     "cell_type": "code",
     "collapsed": false,
     "input": [
      "#For use in CartoDB\n",
      "Coordsdrop = trip_df[['dropoff_longitude', 'dropoff_latitude']]\n",
      "cutoffdrop = Coordsdrop[:100000]\n",
      "cutoffdrop.to_csv('dropoff.csv')"
     ],
     "language": "python",
     "metadata": {},
     "outputs": [],
     "prompt_number": 225
    },
    {
     "cell_type": "code",
     "collapsed": false,
     "input": [
      "binnedHours = trip_df.pickup_datetime.apply(lambda x: x.hour)"
     ],
     "language": "python",
     "metadata": {},
     "outputs": [],
     "prompt_number": 226
    },
    {
     "cell_type": "code",
     "collapsed": false,
     "input": [
      "#Linear Regression on  time of day (hour in 24 hr format) and trip time to predict trip distance\n",
      "\n",
      "\n",
      "#X = pd.DataFrame({'pickup_longitude' : CoordsScaled[:, 0],  'pickup_latitude' : CoordsScaled[:, 1]})\n",
      "\n",
      "X = pd.concat([binnedHours, trip_df.trip_time_in_secs], axis = 1)\n",
      "\n",
      "\n",
      "y = trip_df.trip_distance \n",
      "\n",
      "X_train, X_test, y_train, y_test = cross_validation.train_test_split(X,\n",
      "                                                                     y,\n",
      "                                                                     test_size=0.3,\n",
      "                                                                     random_state=0\n",
      "                                                                     )\n",
      "regr = linear_model.LinearRegression()\n",
      "regr.fit(X_train, y_train)\n",
      "\n",
      "train_score = regr.score(X_train,y_train)\n",
      "test_score = regr.score(X_test,y_test)\n",
      "print(\"Training score: \", train_score)\n",
      "print(\"Test score: \", test_score)\n",
      "\n",
      "scores = cross_validation.cross_val_score(regr, X, y, cv=5)\n",
      "print scores\n",
      "\n",
      "\n",
      "\n",
      "model = sm.OLS(y, X)\n",
      "results = model.fit()\n",
      "print results.summary()\n",
      "print \"Confidence Intervals:\", results.conf_int()\n",
      "print \"Parameters:\", results.params\n"
     ],
     "language": "python",
     "metadata": {},
     "outputs": [
      {
       "output_type": "stream",
       "stream": "stdout",
       "text": [
        "('Training score: ', 0.64478065621281044)\n",
        "('Test score: ', 0.64797151464267499)\n",
        "[ 0.6393412   0.67498928  0.63892421  0.60961851  0.60205399]"
       ]
      },
      {
       "output_type": "stream",
       "stream": "stdout",
       "text": [
        "\n",
        "                            OLS Regression Results                            \n",
        "==============================================================================\n",
        "Dep. Variable:          trip_distance   R-squared:                       0.791\n",
        "Model:                            OLS   Adj. R-squared:                  0.791\n",
        "Method:                 Least Squares   F-statistic:                 1.834e+06\n",
        "Date:                Wed, 29 Apr 2015   Prob (F-statistic):               0.00\n",
        "Time:                        01:38:24   Log-Likelihood:            -2.0727e+06\n",
        "No. Observations:              969825   AIC:                         4.145e+06\n",
        "Df Residuals:                  969823   BIC:                         4.145e+06\n",
        "Df Model:                           2                                         \n",
        "=====================================================================================\n",
        "                        coef    std err          t      P>|t|      [95.0% Conf. Int.]\n",
        "-------------------------------------------------------------------------------------\n",
        "pickup_datetime      -0.0421      0.000   -202.483      0.000        -0.043    -0.042\n",
        "trip_time_in_secs     0.0052   3.53e-06   1460.761      0.000         0.005     0.005\n",
        "==============================================================================\n",
        "Omnibus:                   481041.824   Durbin-Watson:                   1.761\n",
        "Prob(Omnibus):                  0.000   Jarque-Bera (JB):          8919577.316\n",
        "Skew:                           1.954   Prob(JB):                         0.00\n",
        "Kurtosis:                      17.334   Cond. No.                         85.4\n",
        "=============================================================================="
       ]
      },
      {
       "output_type": "stream",
       "stream": "stdout",
       "text": [
        "\n",
        "Confidence Intervals:                           0         1\n",
        "pickup_datetime   -0.042542 -0.041726\n",
        "trip_time_in_secs  0.005155  0.005168\n",
        "Parameters: pickup_datetime     -0.042134\n",
        "trip_time_in_secs    0.005161\n",
        "dtype: float64\n"
       ]
      }
     ],
     "prompt_number": 227
    },
    {
     "cell_type": "code",
     "collapsed": false,
     "input": [
      "# Logistic Regression on Time of day (binned into Morning, Afternoon, etc...) to predict if trip_distance > median trip distance\n",
      "Morning = ((binnedHours > 6) & (binnedHours < 12)).astype(int)\n",
      "Afternoon = ((binnedHours > 12) & (binnedHours < 17)).astype(int)\n",
      "Evening = ((binnedHours > 17) & (binnedHours < 22)).astype(int)\n",
      "Night = ((binnedHours > 22) | (binnedHours < 6)).astype(int)\n",
      "\n",
      "\n",
      "timeofDay = pd.DataFrame({\"Morning\" : Morning, \"Afternoon\" : Afternoon,  \"Evening\": Evening, \"Night\" : Night}) \n",
      "timeofDay.head()\n",
      "\n",
      "X = timeofDay\n",
      "y = (trip_df.trip_distance > trip_df.trip_distance.median()).astype(int)\n",
      "\n",
      "\n",
      "\n",
      "X_train, X_test, y_train, y_test = cross_validation.train_test_split(X,\n",
      "                                                                     y,\n",
      "                                                                     test_size=0.3,\n",
      "                                                                     random_state=0\n",
      "                                                                     )\n",
      "logistic_regr = linear_model.LogisticRegression()\n",
      "logistic_regr.fit(X_train, y_train)\n",
      "y_predicted = logistic_regr.predict(X_test)\n",
      "print metrics.accuracy_score(y_test, y_predicted)\n",
      "\n",
      "print pd.DataFrame(zip(X.columns, np.transpose(logistic_regr.coef_)))"
     ],
     "language": "python",
     "metadata": {},
     "outputs": [
      {
       "output_type": "stream",
       "stream": "stdout",
       "text": [
        "0.546685318339\n",
        "           0                  1\n",
        "0  Afternoon  [-0.241663396225]\n",
        "1    Evening  [0.0215921171744]\n",
        "2    Morning  [-0.202902384263]\n",
        "3      Night   [0.508360588844]\n"
       ]
      }
     ],
     "prompt_number": 228
    },
    {
     "cell_type": "code",
     "collapsed": false,
     "input": [
      "\n",
      "timeOfDayCol = timeofDay.Morning + (timeofDay['Afternoon'] * 2)  + (timeofDay.Evening * 3)+ (timeofDay['Night'] * 4)\n",
      "\n",
      "X = pd.concat([trip_df.pickup_longitude, trip_df.pickup_latitude, trip_df.dropoff_longitude, trip_df.dropoff_latitude], axis = 1)\n",
      "\n",
      "\n",
      "y = timeOfDayCol\n",
      "\n",
      "model = sm.OLS(y, X)\n",
      "results = model.fit()\n",
      "print results.summary()\n",
      "print \"Confidence Intervals:\", results.conf_int()\n",
      "print \"Parameters:\", results.params\n"
     ],
     "language": "python",
     "metadata": {},
     "outputs": [
      {
       "output_type": "stream",
       "stream": "stdout",
       "text": [
        "                            OLS Regression Results                            \n",
        "==============================================================================\n",
        "Dep. Variable:                      y   R-squared:                       0.678\n",
        "Model:                            OLS   Adj. R-squared:                  0.678\n",
        "Method:                 Least Squares   F-statistic:                 5.114e+05\n",
        "Date:                Wed, 29 Apr 2015   Prob (F-statistic):               0.00\n",
        "Time:                        01:44:52   Log-Likelihood:            -1.6721e+06\n",
        "No. Observations:              969825   AIC:                         3.344e+06\n",
        "Df Residuals:                  969821   BIC:                         3.344e+06\n",
        "Df Model:                           4                                         \n",
        "=====================================================================================\n",
        "                        coef    std err          t      P>|t|      [95.0% Conf. Int.]\n",
        "-------------------------------------------------------------------------------------\n",
        "pickup_longitude     -2.4018      0.035    -67.730      0.000        -2.471    -2.332\n",
        "pickup_latitude      -2.5674      0.053    -48.323      0.000        -2.672    -2.463\n",
        "dropoff_longitude     0.8941      0.034     26.501      0.000         0.828     0.960\n",
        "dropoff_latitude     -0.1211      0.046     -2.652      0.008        -0.211    -0.032\n",
        "==============================================================================\n",
        "Omnibus:                  1228886.576   Durbin-Watson:                   0.297\n",
        "Prob(Omnibus):                  0.000   Jarque-Bera (JB):            61685.424\n",
        "Skew:                           0.028   Prob(JB):                         0.00\n",
        "Kurtosis:                       1.766   Cond. No.                     5.40e+03\n",
        "==============================================================================\n",
        "\n",
        "Warnings:\n",
        "[1] The condition number is large, 5.4e+03. This might indicate that there are\n",
        "strong multicollinearity or other numerical problems.\n",
        "Confidence Intervals:                           0         1\n",
        "pickup_longitude  -2.471317 -2.332310\n",
        "pickup_latitude   -2.671516 -2.463253\n",
        "dropoff_longitude  0.828013  0.960268\n",
        "dropoff_latitude  -0.210658 -0.031617\n",
        "Parameters: pickup_longitude    -2.401813\n",
        "pickup_latitude     -2.567385\n",
        "dropoff_longitude    0.894140\n",
        "dropoff_latitude    -0.121138\n",
        "dtype: float64\n"
       ]
      }
     ],
     "prompt_number": 244
    },
    {
     "cell_type": "code",
     "collapsed": false,
     "input": [],
     "language": "python",
     "metadata": {},
     "outputs": [],
     "prompt_number": 239
    },
    {
     "cell_type": "code",
     "collapsed": false,
     "input": [],
     "language": "python",
     "metadata": {},
     "outputs": []
    }
   ],
   "metadata": {}
  }
 ]
}
{
 "metadata": {
  "name": "",
  "signature": "sha256:744eee59d19623e4086cbb1c0c97b5b9b2f386746a038f43f17a80b1ce851d85"
 },
 "nbformat": 3,
 "nbformat_minor": 0,
 "worksheets": [
  {
   "cells": [
    {
     "cell_type": "markdown",
     "metadata": {},
     "source": [
      "(In order to load the stylesheet of this notebook, execute the last code cell in this notebook)"
     ]
    },
    {
     "cell_type": "heading",
     "level": 1,
     "metadata": {},
     "source": [
      "Clustering food recipes from around the world"
     ]
    },
    {
     "cell_type": "markdown",
     "metadata": {},
     "source": [
      "In this assignment, you are expected to hierarchically cluster food recipes. We will be using YY Ahn's dataset \"[Recipe datasets with cuisines](http://yongyeol.com/data/scirep-cuisines-detail.zip)\", which for each recipe provides a list of ingredients and the country of origin, scraped from popular recipe websites. He also provides an [ingredient and compounds dataset](http://yongyeol.com/data/ingr_comp.zip), which you could potentially also make use of, if you find it interesting.\n",
      "\n",
      "You will be graded as follow:\n",
      "* Data parsing and representation **(20 pts)**\n",
      "* Clustering **(30 pts)**\n",
      "* Visualization **(30 pts)**\n",
      "* Short (datailed) analysis of specific cluster **(20 pts)**\n",
      "\n",
      "---------------------------"
     ]
    },
    {
     "cell_type": "code",
     "collapsed": false,
     "input": [
      "import pandas as pd\n",
      "import scipy.cluster.hierarchy as hr\n",
      "import matplotlib.pyplot as plt\n",
      "import seaborn as sns\n",
      "import sklearn.metrics as metrics\n",
      "from scipy.spatial.distance import pdist, squareform\n",
      "%matplotlib inline\n"
     ],
     "language": "python",
     "metadata": {},
     "outputs": [],
     "prompt_number": 13
    },
    {
     "cell_type": "code",
     "collapsed": false,
     "input": [
      "df = pd.DataFrame()\n",
      "f = open('allr_recipes.txt', 'r')\n",
      "unique_ing = set()\n",
      "'''for line in f:\n",
      "    tokens = line.strip().split('\\t') \n",
      "    c = tokens[0]\n",
      "    ing = tokens[1:]\n",
      "    for i in tokens[1:]:\n",
      "        unique_ing.add(i)\n",
      "'''\n",
      "\n",
      "def normsum(l):\n",
      "    return (sum(l))/float(len(l))\n",
      "\n",
      "data = []\n",
      "for line in f:\n",
      "    tokens = line.strip().split('\\t') \n",
      "    c = tokens[0]\n",
      "    d = {'country': c}\n",
      "    ing = tokens[1:]\n",
      "    for i in ing:\n",
      "        d[i] = 1\n",
      "    data.append(d)\n",
      "df = pd.DataFrame(data).fillna(0)\n",
      "\n",
      "grouped = df.groupby('country')\n",
      "aggregated = grouped.aggregate(lambda x: float(sum(x))/float(len(x)))\n",
      "\n",
      "print aggregated.info()\n",
      "\n",
      "aggregated.index"
     ],
     "language": "python",
     "metadata": {},
     "outputs": [
      {
       "output_type": "stream",
       "stream": "stdout",
       "text": [
        "<class 'pandas.core.frame.DataFrame'>\n",
        "Index: 36 entries, American to West-African\n",
        "Columns: 346 entries, almond to zucchini\n",
        "dtypes: float64(346)\n",
        "memory usage: 97.6+ KB\n",
        "None\n"
       ]
      },
      {
       "metadata": {},
       "output_type": "pyout",
       "prompt_number": 44,
       "text": [
        "Index([u'American', u'Austria', u'Bangladesh', u'Belgium', u'Canada', u'Caribbean', u'China', u'East-African', u'Eastern-Europe', u'France', u'Germany', u'India', u'Indonesia', u'Iran', u'Israel', u'Italy', u'Japan', u'Korea', u'Lebanon', u'Malaysia', u'Mexico', u'Netherlands', u'North-African', u'Pakistan', u'Philippines', u'Portugal', u'Scandinavia', u'South-African', u'South-America', u'Spain', u'Switzerland', u'Thailand', u'Turkey', u'UK-and-Ireland', u'Vietnam', u'West-African'], dtype='object')"
       ]
      }
     ],
     "prompt_number": 44
    },
    {
     "cell_type": "code",
     "collapsed": false,
     "input": [
      "distanceMatrix = pdist(aggregated,'euclidean')\n",
      "\n",
      "Z = hr.linkage(aggregated, method='complete', metric='euclidean')\n",
      "\n",
      "print Z[0,0], Z[0,1]\n",
      "print aggregated.index[0], aggregated.index[4]\n",
      "\n",
      "#ck = hr.fcluster(hr.linkage(distanceMatrix, method='complete'), 1.5,'distance')\n",
      "#print ck\n",
      "\n",
      "#for l in aggregated:\n",
      "#    print l\n",
      "\n",
      "distances = metrics.euclidean_distances(aggregated)\n",
      "cg = sns.clustermap(distances, method=\"complete\", figsize=(13,13), xticklabels=False)\n",
      "print cg.dendrogram_col.reordered_ind"
     ],
     "language": "python",
     "metadata": {},
     "outputs": [
      {
       "output_type": "stream",
       "stream": "stdout",
       "text": [
        "0.0 4.0\n",
        "American Canada\n",
        "[2, 23, 17, 31, 34, 15, 32, 5, 7, 13, 22, 29, 27, 16, 24, 35, 11, 19, 6, 12, 18, 20, 26, 3, 1, 21, 14, 30, 10, 33, 25, 28, 8, 9, 0, 4]"
       ]
      },
      {
       "output_type": "stream",
       "stream": "stdout",
       "text": [
        "\n"
       ]
      },
      {
       "metadata": {},
       "output_type": "display_data",
       "png": "[encoded data removed]",
       "text": [
        "<matplotlib.figure.Figure at 0x7f9447754390>"
       ]
      }
     ],
     "prompt_number": 48
    },
    {
     "cell_type": "code",
     "collapsed": false,
     "input": [],
     "language": "python",
     "metadata": {},
     "outputs": [],
     "prompt_number": 9
    },
    {
     "cell_type": "code",
     "collapsed": false,
     "input": [],
     "language": "python",
     "metadata": {},
     "outputs": []
    },
    {
     "cell_type": "markdown",
     "metadata": {},
     "source": [
      "### References"
     ]
    },
    {
     "cell_type": "markdown",
     "metadata": {},
     "source": [
      "1. Ahn, Yong-Yeol, et al. \"Flavor network and the principles of food pairing.\" Scientific reports 1 (2011)."
     ]
    },
    {
     "cell_type": "code",
     "collapsed": false,
     "input": [
      "# Code for setting the style of the notebook\n",
      "from IPython.core.display import HTML\n",
      "def css_styling():\n",
      "    styles = open(\"../../theme/custom.css\", \"r\").read()\n",
      "    return HTML(styles)\n",
      "css_styling()"
     ],
     "language": "python",
     "metadata": {},
     "outputs": [
      {
       "html": [
        "<link href='http://fonts.googleapis.com/css?family=EB+Garamond' rel='stylesheet' type='text/css'>\n",
        "<link href='http://fonts.googleapis.com/css?family=Alegreya+Sans:100,300,400,500,700,800,900,100italic,300italic,400italic,500italic,700italic,800italic,900italic' rel='stylesheet' type='text/css'>\n",
        "<link href='http://fonts.googleapis.com/css?family=Source+Code+Pro:300,400' rel='stylesheet' type='text/css'>\n",
        "<style>\n",
        "    @font-face {\n",
        "        font-family: \"Computer Modern\";\n",
        "        src: url('http://mirrors.ctan.org/fonts/cm-unicode/fonts/otf/cmunss.otf');\n",
        "    }\n",
        "    .code_cell {\n",
        "        width: 105ex !important ;\n",
        "        margin-bottom: 15px !important;\n",
        "    }\n",
        "    div.cell {\n",
        "        margin-left: auto;\n",
        "        margin-right: auto;\n",
        "        width: 70%;\n",
        "    }    \n",
        "    div.cell.selected {\n",
        "        border: thin rgba(171, 171, 171, 0.5) dashed;\n",
        "    }\n",
        "    h1 {\n",
        "        font-family: 'Alegreya Sans', sans-serif;\n",
        "    }\n",
        "    h2 {\n",
        "        font-family: 'EB Garamond', serif;\n",
        "    }\n",
        "    h3 {\n",
        "        font-family: 'EB Garamond', serif;\n",
        "        margin-top:12px;\n",
        "        margin-bottom: 3px;\n",
        "    }\n",
        "    h4 {\n",
        "        font-family: 'EB Garamond', serif;\n",
        "    }\n",
        "    h5 {\n",
        "        font-family: 'Alegreya Sans', sans-serif;\n",
        "    }\n",
        "    div.text_cell_render {\n",
        "        font-family: 'EB Garamond',Computer Modern, \"Helvetica Neue\", Arial, Helvetica, Geneva, sans-serif;\n",
        "        line-height: 145%;\n",
        "        font-size: 140%;\n",
        "    }\n",
        "    div.input_area {\n",
        "        border-color: rgba(0,0,0,0.10) !important;\n",
        "        background: #fafafa;\n",
        "    }\n",
        "    .CodeMirror {\n",
        "            font-family: \"Source Code Pro\";\n",
        "            font-size: 90%;\n",
        "    }\n",
        "    .prompt {\n",
        "        display: None;\n",
        "    }\n",
        "    .output {\n",
        "        padding-left: 50px;\n",
        "        padding-top: 5px;\n",
        "    }\n",
        "    .output_wrapper {\n",
        "        padding-left: 5px;\n",
        "        padding-top: inherit;\n",
        "    }\n",
        "    div.output_scroll {\n",
        "        width: inherit;\n",
        "    }\n",
        "    .inner_cell {\n",
        "        padding-left: 5px;\n",
        "    }\n",
        "    .text_cell_render h1 {\n",
        "        font-weight: 200;\n",
        "        font-size: 50pt;\n",
        "        line-height: 100%;\n",
        "        color:#CD2305;\n",
        "        margin-bottom: 0.5em;\n",
        "        margin-top: 0.5em;\n",
        "        display: block;\n",
        "    }\n",
        "    .text_cell_render h5 {\n",
        "        font-weight: 300;\n",
        "        font-size: 16pt;\n",
        "        color: #CD2305;\n",
        "        font-style: italic;\n",
        "        margin-bottom: .5em;\n",
        "        margin-top: 0.5em;\n",
        "        display: block;\n",
        "    }\n",
        "    .warning {\n",
        "        color: rgb( 240, 20, 20 )\n",
        "        }  \n",
        "</style>\n",
        "<script>\n",
        "    MathJax.Hub.Config({\n",
        "                        TeX: {\n",
        "                           extensions: [\"AMSmath.js\"]\n",
        "                           },\n",
        "                tex2jax: {\n",
        "                    inlineMath: [ ['$','$'], [\"\\\\(\",\"\\\\)\"] ],\n",
        "                    displayMath: [ ['$$','$$'], [\"\\\\[\",\"\\\\]\"] ]\n",
        "                },\n",
        "                displayAlign: 'center', // Change this to 'center' to center equations.\n",
        "                \"HTML-CSS\": {\n",
        "                    styles: {'.MathJax_Display': {\"margin\": 4}}\n",
        "                }\n",
        "        });\n",
        "</script>"
       ],
       "metadata": {},
       "output_type": "pyout",
       "prompt_number": 1,
       "text": [
        "<IPython.core.display.HTML at 0x7f3685bfe950>"
       ]
      }
     ],
     "prompt_number": 1
    }
   ],
   "metadata": {}
  }
 ]
}